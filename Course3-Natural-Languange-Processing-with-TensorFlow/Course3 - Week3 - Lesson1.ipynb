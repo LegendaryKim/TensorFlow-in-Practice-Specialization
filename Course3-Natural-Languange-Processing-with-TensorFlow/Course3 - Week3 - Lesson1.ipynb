{
 "cells": [
  {
   "cell_type": "code",
   "execution_count": 5,
   "metadata": {},
   "outputs": [
    {
     "name": "stdout",
     "output_type": "stream",
     "text": [
      "2.3.0\n"
     ]
    }
   ],
   "source": [
    "import tensorflow as tf\n",
    "import tensorflow_datasets as tfds\n",
    "print(tf.__version__)"
   ]
  },
  {
   "cell_type": "code",
   "execution_count": 6,
   "metadata": {},
   "outputs": [
    {
     "name": "stderr",
     "output_type": "stream",
     "text": [
      "WARNING:absl:TFDS datasets with text encoding are deprecated and will be removed in a future version. Instead, you should use the plain text version and tokenize the text using `tensorflow_text` (See: https://www.tensorflow.org/tutorials/tensorflow_text/intro#tfdata_example)\n"
     ]
    }
   ],
   "source": [
    "dataset, info = tfds.load('imdb_reviews/subwords8k', with_info=True, as_supervised=True)\n",
    "train_dataset, test_dataset = dataset['train'], dataset['test']"
   ]
  },
  {
   "cell_type": "code",
   "execution_count": 8,
   "metadata": {},
   "outputs": [],
   "source": [
    "tokenizer = info.features['text'].encoder"
   ]
  },
  {
   "cell_type": "code",
   "execution_count": 9,
   "metadata": {},
   "outputs": [],
   "source": [
    "BUFFER_SIZE = 10000\n",
    "BATCH_SIZE = 64\n",
    "\n",
    "train_dataset = train_dataset.shuffle(BUFFER_SIZE)\n",
    "train_dataset = train_dataset.padded_batch(BATCH_SIZE, tf.compat.v1.data.get_output_shapes(train_dataset))\n",
    "test_dataset = test_dataset.padded_batch(BATCH_SIZE, tf.compat.v1.data.get_output_shapes(test_dataset))\n"
   ]
  },
  {
   "cell_type": "code",
   "execution_count": 16,
   "metadata": {},
   "outputs": [],
   "source": [
    "# model = tf.keras.Sequential([\n",
    "#     tf.keras.layers.Embedding(tokenizer.vocab_size, 64),\n",
    "#     tf.keras.layers.Bidirectional(tf.keras.layers.LSTM(64)),\n",
    "#     tf.keras.layers.Dense(64, activation='relu'),\n",
    "#     tf.keras.layers.Dense(1, activation='sigmoid')   \n",
    "# ])\n",
    "# model.summary()\n",
    "\n",
    "# Double layers of Bidirectional LSTM\n",
    "\n",
    "# model = tf.keras.Sequential([\n",
    "#     tf.keras.layers.Embedding(tokenizer.vocab_size, 64),\n",
    "#     tf.keras.layers.Bidirectional(tf.keras.layers.LSTM(64, return_sequences=True)),\n",
    "#     tf.keras.layers.Bidirectional(tf.keras.layers.LSTM(32)),\n",
    "#     tf.keras.layers.Dense(64, activation='relu'),\n",
    "#     tf.keras.layers.Dense(1, activation='sigmoid')\n",
    "# ])\n",
    "\n",
    "# Convolutional Network \n",
    "model = tf.keras.Sequential([\n",
    "    tf.keras.layers.Embedding(tokenizer.vocab_size, 64),\n",
    "    tf.keras.layers.Conv1D(128, 5, activation='relu'),\n",
    "    tf.keras.layers.GlobalMaxPooling1D(),\n",
    "    tf.keras.layers.Dense(64, activation='relu'),\n",
    "    tf.keras.layers.Dense(1, activation='sigmoid')    \n",
    "])\n"
   ]
  },
  {
   "cell_type": "code",
   "execution_count": 17,
   "metadata": {},
   "outputs": [],
   "source": [
    "model.compile(loss='binary_crossentropy', optimizer='adam', metrics=['accuracy'])"
   ]
  },
  {
   "cell_type": "code",
   "execution_count": 18,
   "metadata": {},
   "outputs": [
    {
     "name": "stdout",
     "output_type": "stream",
     "text": [
      "Epoch 1/10\n",
      "391/391 [==============================] - 201s 514ms/step - loss: 0.4498 - accuracy: 0.7686 - val_loss: 0.2794 - val_accuracy: 0.8834\n",
      "Epoch 2/10\n",
      "391/391 [==============================] - 205s 524ms/step - loss: 0.1887 - accuracy: 0.9292 - val_loss: 0.2583 - val_accuracy: 0.8934\n",
      "Epoch 3/10\n",
      "391/391 [==============================] - 202s 517ms/step - loss: 0.0623 - accuracy: 0.9834 - val_loss: 0.3040 - val_accuracy: 0.8926\n",
      "Epoch 4/10\n",
      "391/391 [==============================] - 201s 514ms/step - loss: 0.0110 - accuracy: 0.9991 - val_loss: 0.3454 - val_accuracy: 0.8953\n",
      "Epoch 5/10\n",
      "391/391 [==============================] - 201s 515ms/step - loss: 0.0023 - accuracy: 1.0000 - val_loss: 0.3766 - val_accuracy: 0.8949\n",
      "Epoch 6/10\n",
      "391/391 [==============================] - 202s 516ms/step - loss: 0.0012 - accuracy: 1.0000 - val_loss: 0.3969 - val_accuracy: 0.8946\n",
      "Epoch 7/10\n",
      "391/391 [==============================] - 201s 515ms/step - loss: 7.6163e-04 - accuracy: 1.0000 - val_loss: 0.4159 - val_accuracy: 0.8948\n",
      "Epoch 8/10\n",
      "391/391 [==============================] - 201s 515ms/step - loss: 3.2691e-04 - accuracy: 1.0000 - val_loss: 0.4331 - val_accuracy: 0.8946\n",
      "Epoch 9/10\n",
      "391/391 [==============================] - 203s 520ms/step - loss: 2.1412e-04 - accuracy: 1.0000 - val_loss: 0.4483 - val_accuracy: 0.8947\n",
      "Epoch 10/10\n",
      "391/391 [==============================] - 190s 486ms/step - loss: 1.5089e-04 - accuracy: 1.0000 - val_loss: 0.4625 - val_accuracy: 0.8948\n"
     ]
    }
   ],
   "source": [
    "NUM_EPOCHS=10\n",
    "history = model.fit(train_dataset, epochs=NUM_EPOCHS, validation_data=test_dataset)"
   ]
  },
  {
   "cell_type": "code",
   "execution_count": 19,
   "metadata": {},
   "outputs": [
    {
     "data": {
      "image/png": "[encoded data removed]",
      "text/plain": [
       "<Figure size 432x288 with 1 Axes>"
      ]
     },
     "metadata": {
      "needs_background": "light"
     },
     "output_type": "display_data"
    },
    {
     "data": {
      "image/png": "[encoded data removed]",
      "text/plain": [
       "<Figure size 432x288 with 1 Axes>"
      ]
     },
     "metadata": {
      "needs_background": "light"
     },
     "output_type": "display_data"
    }
   ],
   "source": [
    "import matplotlib.pyplot as plt\n",
    "\n",
    "\n",
    "def plot_graphs(history, string):\n",
    "  plt.plot(history.history[string])\n",
    "  plt.plot(history.history['val_'+string])\n",
    "  plt.xlabel(\"Epochs\")\n",
    "  plt.ylabel(string)\n",
    "  plt.legend([string, 'val_'+string])\n",
    "  plt.show()\n",
    "    \n",
    "plot_graphs(history, 'accuracy')\n",
    "plot_graphs(history, 'loss')"
   ]
  },
  {
   "cell_type": "code",
   "execution_count": null,
   "metadata": {},
   "outputs": [],
   "source": []
  }
 ],
 "metadata": {
  "kernelspec": {
   "display_name": "Python 3",
   "language": "python",
   "name": "python3"
  },
  "language_info": {
   "codemirror_mode": {
    "name": "ipython",
    "version": 3
   },
   "file_extension": ".py",
   "mimetype": "text/x-python",
   "name": "python",
   "nbconvert_exporter": "python",
   "pygments_lexer": "ipython3",
   "version": "3.6.10"
  }
 },
 "nbformat": 4,
 "nbformat_minor": 4
}
