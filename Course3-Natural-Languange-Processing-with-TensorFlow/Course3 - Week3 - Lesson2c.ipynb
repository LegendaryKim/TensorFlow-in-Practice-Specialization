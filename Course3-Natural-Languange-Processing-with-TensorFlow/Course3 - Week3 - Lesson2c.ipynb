{
  "nbformat": 4,
  "nbformat_minor": 0,
  "metadata": {
    "accelerator": "GPU",
    "colab": {
      "name": "Course 3 - Week 3 - Lesson 2c.ipynb",
      "provenance": [],
      "collapsed_sections": []
    },
    "kernelspec": {
      "display_name": "Python 3",
      "language": "python",
      "name": "python3"
    },
    "language_info": {
      "codemirror_mode": {
        "name": "ipython",
        "version": 3
      },
      "file_extension": ".py",
      "mimetype": "text/x-python",
      "name": "python",
      "nbconvert_exporter": "python",
      "pygments_lexer": "ipython3",
      "version": "3.7.6"
    }
  },
  "cells": [
    {
      "cell_type": "code",
      "metadata": {
        "colab_type": "code",
        "id": "zX4Kg8DUTKWO",
        "colab": {}
      },
      "source": [
        "#@title Licensed under the Apache License, Version 2.0 (the \"License\");\n",
        "# you may not use this file except in compliance with the License.\n",
        "# You may obtain a copy of the License at\n",
        "#\n",
        "# https://www.apache.org/licenses/LICENSE-2.0\n",
        "#\n",
        "# Unless required by applicable law or agreed to in writing, software\n",
        "# distributed under the License is distributed on an \"AS IS\" BASIS,\n",
        "# WITHOUT WARRANTIES OR CONDITIONS OF ANY KIND, either express or implied.\n",
        "# See the License for the specific language governing permissions and\n",
        "# limitations under the License."
      ],
      "execution_count": 7,
      "outputs": []
    },
    {
      "cell_type": "markdown",
      "metadata": {
        "id": "Ax1KvcjohsI9",
        "colab_type": "text"
      },
      "source": [
        "<a href=\"https://colab.research.google.com/github/lmoroney/dlaicourse/blob/master/TensorFlow%20In%20Practice/Course%203%20-%20NLP/Course%203%20-%20Week%203%20-%20Lesson%202c.ipynb\" target=\"_parent\"><img src=\"https://colab.research.google.com/assets/colab-badge.svg\" alt=\"Open In Colab\"/></a>"
      ]
    },
    {
      "cell_type": "code",
      "metadata": {
        "colab_type": "code",
        "id": "jGwXGIXvFhXW",
        "colab": {
          "base_uri": "https://localhost:8080/",
          "height": 1000
        },
        "outputId": "84fe7d5d-18e0-472d-c397-217d37c9e4aa"
      },
      "source": [
        "import numpy as np\n",
        "\n",
        "import json\n",
        "import tensorflow as tf\n",
        "\n",
        "from tensorflow.keras.preprocessing.text import Tokenizer\n",
        "from tensorflow.keras.preprocessing.sequence import pad_sequences\n",
        "\n",
        "!wget --no-check-certificate \\\n",
        "    https://storage.googleapis.com/laurencemoroney-blog.appspot.com/sarcasm.json \\\n",
        "    -O /tmp/sarcasm.json\n",
        "\n",
        "vocab_size = 1000\n",
        "embedding_dim = 16\n",
        "max_length = 120\n",
        "trunc_type='post'\n",
        "padding_type='post'\n",
        "oov_tok = \"<OOV>\"\n",
        "training_size = 20000\n",
        "\n",
        "\n",
        "with open(\"/tmp/sarcasm.json\", 'r') as f:\n",
        "    datastore = json.load(f)\n",
        "\n",
        "\n",
        "sentences = []\n",
        "labels = []\n",
        "urls = []\n",
        "for item in datastore:\n",
        "    sentences.append(item['headline'])\n",
        "    labels.append(item['is_sarcastic'])\n",
        "\n",
        "training_sentences = sentences[0:training_size]\n",
        "testing_sentences = sentences[training_size:]\n",
        "training_labels = labels[0:training_size]\n",
        "testing_labels = labels[training_size:]\n",
        "\n",
        "tokenizer = Tokenizer(num_words=vocab_size, oov_token=oov_tok)\n",
        "tokenizer.fit_on_texts(training_sentences)\n",
        "\n",
        "word_index = tokenizer.word_index\n",
        "\n",
        "training_sequences = tokenizer.texts_to_sequences(training_sentences)\n",
        "training_padded = pad_sequences(training_sequences, maxlen=max_length, padding=padding_type, truncating=trunc_type)\n",
        "\n",
        "testing_sequences = tokenizer.texts_to_sequences(testing_sentences)\n",
        "testing_padded = pad_sequences(testing_sequences, maxlen=max_length, padding=padding_type, truncating=trunc_type)\n",
        "\n",
        "model = tf.keras.Sequential([\n",
        "    tf.keras.layers.Embedding(vocab_size, embedding_dim, input_length=max_length),\n",
        "    tf.keras.layers.Conv1D(128, 5, activation='relu'),\n",
        "    tf.keras.layers.GlobalMaxPooling1D(),\n",
        "    tf.keras.layers.Dense(24, activation='relu'),\n",
        "    tf.keras.layers.Dense(1, activation='sigmoid')\n",
        "])\n",
        "model.compile(loss='binary_crossentropy',optimizer='adam',metrics=['accuracy'])\n",
        "model.summary()\n",
        "\n",
        "num_epochs = 50\n",
        "\n",
        "training_padded = np.array(training_padded)\n",
        "training_labels = np.array(training_labels)\n",
        "testing_padded = np.array(testing_padded)\n",
        "testing_labels = np.array(testing_labels)\n",
        "\n",
        "history = model.fit(training_padded, training_labels, epochs=num_epochs, validation_data=(testing_padded, testing_labels), verbose=1)\n"
      ],
      "execution_count": 8,
      "outputs": [
        {
          "output_type": "stream",
          "text": [
            "--2020-09-24 01:08:57--  https://storage.googleapis.com/laurencemoroney-blog.appspot.com/sarcasm.json\n",
            "Resolving storage.googleapis.com (storage.googleapis.com)... 74.125.195.128, 74.125.142.128, 74.125.20.128, ...\n",
            "Connecting to storage.googleapis.com (storage.googleapis.com)|74.125.195.128|:443... connected.\n",
            "HTTP request sent, awaiting response... 200 OK\n",
            "Length: 5643545 (5.4M) [application/json]\n",
            "Saving to: ‘/tmp/sarcasm.json’\n",
            "\n",
            "\r/tmp/sarcasm.json     0%[                    ]       0  --.-KB/s               \r/tmp/sarcasm.json   100%[===================>]   5.38M  --.-KB/s    in 0.09s   \n",
            "\n",
            "2020-09-24 01:08:57 (60.0 MB/s) - ‘/tmp/sarcasm.json’ saved [5643545/5643545]\n",
            "\n",
            "Model: \"sequential_2\"\n",
            "_________________________________________________________________\n",
            "Layer (type)                 Output Shape              Param #   \n",
            "=================================================================\n",
            "embedding_2 (Embedding)      (None, 120, 16)           16000     \n",
            "_________________________________________________________________\n",
            "conv1d_2 (Conv1D)            (None, 116, 128)          10368     \n",
            "_________________________________________________________________\n",
            "global_max_pooling1d_2 (Glob (None, 128)               0         \n",
            "_________________________________________________________________\n",
            "dense_4 (Dense)              (None, 24)                3096      \n",
            "_________________________________________________________________\n",
            "dense_5 (Dense)              (None, 1)                 25        \n",
            "=================================================================\n",
            "Total params: 29,489\n",
            "Trainable params: 29,489\n",
            "Non-trainable params: 0\n",
            "_________________________________________________________________\n",
            "Epoch 1/50\n",
            "625/625 [==============================] - 3s 4ms/step - loss: 0.4728 - accuracy: 0.7613 - val_loss: 0.4096 - val_accuracy: 0.8159\n",
            "Epoch 2/50\n",
            "625/625 [==============================] - 2s 4ms/step - loss: 0.3618 - accuracy: 0.8350 - val_loss: 0.3949 - val_accuracy: 0.8207\n",
            "Epoch 3/50\n",
            "625/625 [==============================] - 3s 4ms/step - loss: 0.3246 - accuracy: 0.8548 - val_loss: 0.3900 - val_accuracy: 0.8250\n",
            "Epoch 4/50\n",
            "625/625 [==============================] - 2s 4ms/step - loss: 0.2932 - accuracy: 0.8739 - val_loss: 0.4018 - val_accuracy: 0.8238\n",
            "Epoch 5/50\n",
            "625/625 [==============================] - 2s 4ms/step - loss: 0.2635 - accuracy: 0.8899 - val_loss: 0.4168 - val_accuracy: 0.8195\n",
            "Epoch 6/50\n",
            "625/625 [==============================] - 2s 4ms/step - loss: 0.2322 - accuracy: 0.9035 - val_loss: 0.4418 - val_accuracy: 0.8152\n",
            "Epoch 7/50\n",
            "625/625 [==============================] - 3s 4ms/step - loss: 0.2024 - accuracy: 0.9172 - val_loss: 0.4745 - val_accuracy: 0.8135\n",
            "Epoch 8/50\n",
            "625/625 [==============================] - 3s 4ms/step - loss: 0.1754 - accuracy: 0.9305 - val_loss: 0.5211 - val_accuracy: 0.8079\n",
            "Epoch 9/50\n",
            "625/625 [==============================] - 3s 4ms/step - loss: 0.1446 - accuracy: 0.9463 - val_loss: 0.5817 - val_accuracy: 0.8074\n",
            "Epoch 10/50\n",
            "625/625 [==============================] - 3s 4ms/step - loss: 0.1209 - accuracy: 0.9564 - val_loss: 0.6433 - val_accuracy: 0.8053\n",
            "Epoch 11/50\n",
            "625/625 [==============================] - 3s 4ms/step - loss: 0.1014 - accuracy: 0.9642 - val_loss: 0.6929 - val_accuracy: 0.7959\n",
            "Epoch 12/50\n",
            "625/625 [==============================] - 3s 4ms/step - loss: 0.0827 - accuracy: 0.9712 - val_loss: 0.8046 - val_accuracy: 0.7964\n",
            "Epoch 13/50\n",
            "625/625 [==============================] - 3s 4ms/step - loss: 0.0707 - accuracy: 0.9769 - val_loss: 0.8769 - val_accuracy: 0.7953\n",
            "Epoch 14/50\n",
            "625/625 [==============================] - 3s 4ms/step - loss: 0.0615 - accuracy: 0.9786 - val_loss: 0.9281 - val_accuracy: 0.7980\n",
            "Epoch 15/50\n",
            "625/625 [==============================] - 2s 4ms/step - loss: 0.0561 - accuracy: 0.9808 - val_loss: 1.0183 - val_accuracy: 0.7945\n",
            "Epoch 16/50\n",
            "625/625 [==============================] - 2s 4ms/step - loss: 0.0483 - accuracy: 0.9840 - val_loss: 1.1191 - val_accuracy: 0.7898\n",
            "Epoch 17/50\n",
            "625/625 [==============================] - 2s 4ms/step - loss: 0.0443 - accuracy: 0.9845 - val_loss: 1.1620 - val_accuracy: 0.7910\n",
            "Epoch 18/50\n",
            "625/625 [==============================] - 3s 4ms/step - loss: 0.0405 - accuracy: 0.9854 - val_loss: 1.3311 - val_accuracy: 0.7813\n",
            "Epoch 19/50\n",
            "625/625 [==============================] - 2s 4ms/step - loss: 0.0432 - accuracy: 0.9836 - val_loss: 1.3264 - val_accuracy: 0.7928\n",
            "Epoch 20/50\n",
            "625/625 [==============================] - 3s 4ms/step - loss: 0.0399 - accuracy: 0.9847 - val_loss: 1.3712 - val_accuracy: 0.7897\n",
            "Epoch 21/50\n",
            "625/625 [==============================] - 3s 4ms/step - loss: 0.0365 - accuracy: 0.9867 - val_loss: 1.3916 - val_accuracy: 0.7825\n",
            "Epoch 22/50\n",
            "625/625 [==============================] - 3s 4ms/step - loss: 0.0325 - accuracy: 0.9875 - val_loss: 1.5231 - val_accuracy: 0.7806\n",
            "Epoch 23/50\n",
            "625/625 [==============================] - 3s 4ms/step - loss: 0.0305 - accuracy: 0.9879 - val_loss: 1.5865 - val_accuracy: 0.7918\n",
            "Epoch 24/50\n",
            "625/625 [==============================] - 3s 4ms/step - loss: 0.0283 - accuracy: 0.9884 - val_loss: 1.6384 - val_accuracy: 0.7815\n",
            "Epoch 25/50\n",
            "625/625 [==============================] - 2s 4ms/step - loss: 0.0341 - accuracy: 0.9869 - val_loss: 1.7212 - val_accuracy: 0.7872\n",
            "Epoch 26/50\n",
            "625/625 [==============================] - 3s 4ms/step - loss: 0.0305 - accuracy: 0.9873 - val_loss: 1.6621 - val_accuracy: 0.7891\n",
            "Epoch 27/50\n",
            "625/625 [==============================] - 3s 4ms/step - loss: 0.0299 - accuracy: 0.9878 - val_loss: 1.6491 - val_accuracy: 0.7877\n",
            "Epoch 28/50\n",
            "625/625 [==============================] - 3s 4ms/step - loss: 0.0285 - accuracy: 0.9880 - val_loss: 1.7757 - val_accuracy: 0.7903\n",
            "Epoch 29/50\n",
            "625/625 [==============================] - 3s 4ms/step - loss: 0.0250 - accuracy: 0.9892 - val_loss: 1.8922 - val_accuracy: 0.7876\n",
            "Epoch 30/50\n",
            "625/625 [==============================] - 3s 4ms/step - loss: 0.0243 - accuracy: 0.9896 - val_loss: 1.9584 - val_accuracy: 0.7818\n",
            "Epoch 31/50\n",
            "625/625 [==============================] - 3s 4ms/step - loss: 0.0257 - accuracy: 0.9890 - val_loss: 1.9533 - val_accuracy: 0.7863\n",
            "Epoch 32/50\n",
            "625/625 [==============================] - 3s 4ms/step - loss: 0.0258 - accuracy: 0.9887 - val_loss: 1.9676 - val_accuracy: 0.7894\n",
            "Epoch 33/50\n",
            "625/625 [==============================] - 3s 4ms/step - loss: 0.0252 - accuracy: 0.9894 - val_loss: 1.9907 - val_accuracy: 0.7828\n",
            "Epoch 34/50\n",
            "625/625 [==============================] - 2s 4ms/step - loss: 0.0242 - accuracy: 0.9898 - val_loss: 2.0637 - val_accuracy: 0.7877\n",
            "Epoch 35/50\n",
            "625/625 [==============================] - 3s 4ms/step - loss: 0.0244 - accuracy: 0.9894 - val_loss: 2.1098 - val_accuracy: 0.7840\n",
            "Epoch 36/50\n",
            "625/625 [==============================] - 2s 4ms/step - loss: 0.0234 - accuracy: 0.9901 - val_loss: 2.1648 - val_accuracy: 0.7797\n",
            "Epoch 37/50\n",
            "625/625 [==============================] - 3s 4ms/step - loss: 0.0221 - accuracy: 0.9905 - val_loss: 2.2070 - val_accuracy: 0.7809\n",
            "Epoch 38/50\n",
            "625/625 [==============================] - 3s 4ms/step - loss: 0.0235 - accuracy: 0.9895 - val_loss: 2.1697 - val_accuracy: 0.7760\n",
            "Epoch 39/50\n",
            "625/625 [==============================] - 3s 4ms/step - loss: 0.0228 - accuracy: 0.9895 - val_loss: 2.2940 - val_accuracy: 0.7883\n",
            "Epoch 40/50\n",
            "625/625 [==============================] - 3s 5ms/step - loss: 0.0204 - accuracy: 0.9910 - val_loss: 2.4014 - val_accuracy: 0.7803\n",
            "Epoch 41/50\n",
            "625/625 [==============================] - 3s 4ms/step - loss: 0.0251 - accuracy: 0.9896 - val_loss: 2.1958 - val_accuracy: 0.7788\n",
            "Epoch 42/50\n",
            "625/625 [==============================] - 3s 4ms/step - loss: 0.0242 - accuracy: 0.9898 - val_loss: 2.3530 - val_accuracy: 0.7831\n",
            "Epoch 43/50\n",
            "625/625 [==============================] - 3s 4ms/step - loss: 0.0194 - accuracy: 0.9908 - val_loss: 2.3842 - val_accuracy: 0.7837\n",
            "Epoch 44/50\n",
            "625/625 [==============================] - 2s 4ms/step - loss: 0.0162 - accuracy: 0.9922 - val_loss: 2.5170 - val_accuracy: 0.7773\n",
            "Epoch 45/50\n",
            "625/625 [==============================] - 2s 4ms/step - loss: 0.0194 - accuracy: 0.9912 - val_loss: 2.6985 - val_accuracy: 0.7746\n",
            "Epoch 46/50\n",
            "625/625 [==============================] - 2s 4ms/step - loss: 0.0275 - accuracy: 0.9887 - val_loss: 2.5171 - val_accuracy: 0.7778\n",
            "Epoch 47/50\n",
            "625/625 [==============================] - 2s 4ms/step - loss: 0.0208 - accuracy: 0.9908 - val_loss: 2.5588 - val_accuracy: 0.7854\n",
            "Epoch 48/50\n",
            "625/625 [==============================] - 2s 4ms/step - loss: 0.0197 - accuracy: 0.9912 - val_loss: 2.5618 - val_accuracy: 0.7739\n",
            "Epoch 49/50\n",
            "625/625 [==============================] - 2s 4ms/step - loss: 0.0189 - accuracy: 0.9912 - val_loss: 2.6877 - val_accuracy: 0.7800\n",
            "Epoch 50/50\n",
            "625/625 [==============================] - 3s 4ms/step - loss: 0.0204 - accuracy: 0.9908 - val_loss: 2.6300 - val_accuracy: 0.7883\n"
          ],
          "name": "stdout"
        }
      ]
    },
    {
      "cell_type": "code",
      "metadata": {
        "colab_type": "code",
        "id": "g9DC6dmLF8DC",
        "colab": {
          "base_uri": "https://localhost:8080/",
          "height": 542
        },
        "outputId": "94ba134d-90a3-44f4-92ee-951fda172f10"
      },
      "source": [
        "import matplotlib.pyplot as plt\n",
        "\n",
        "\n",
        "def plot_graphs(history, string):\n",
        "  plt.plot(history.history[string])\n",
        "  plt.plot(history.history['val_'+string])\n",
        "  plt.xlabel(\"Epochs\")\n",
        "  plt.ylabel(string)\n",
        "  plt.legend([string, 'val_'+string])\n",
        "  plt.show()\n",
        "\n",
        "plot_graphs(history, 'accuracy')\n",
        "plot_graphs(history, 'loss')"
      ],
      "execution_count": 9,
      "outputs": [
        {
          "output_type": "display_data",
          "data": {
            "image/png": "[encoded data removed]",
            "text/plain": [
              "<Figure size 432x288 with 1 Axes>"
            ]
          },
          "metadata": {
            "tags": [],
            "needs_background": "light"
          }
        },
        {
          "output_type": "display_data",
          "data": {
            "image/png": "[encoded data removed]",
            "text/plain": [
              "<Figure size 432x288 with 1 Axes>"
            ]
          },
          "metadata": {
            "tags": [],
            "needs_background": "light"
          }
        }
      ]
    },
    {
      "cell_type": "code",
      "metadata": {
        "colab_type": "code",
        "id": "7ZEZIUppGhdi",
        "colab": {}
      },
      "source": [
        "model.save(\"test.h5\")"
      ],
      "execution_count": 10,
      "outputs": []
    }
  ]
}