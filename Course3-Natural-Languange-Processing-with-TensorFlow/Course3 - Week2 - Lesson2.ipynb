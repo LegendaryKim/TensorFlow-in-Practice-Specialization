{
 "cells": [
  {
   "cell_type": "code",
   "execution_count": 1,
   "metadata": {},
   "outputs": [],
   "source": [
    "import json\n",
    "import tensorflow as tf\n",
    "\n",
    "from tensorflow.keras.preprocessing.text import Tokenizer\n",
    "from tensorflow.keras.preprocessing.sequence import pad_sequences"
   ]
  },
  {
   "cell_type": "code",
   "execution_count": 2,
   "metadata": {},
   "outputs": [],
   "source": [
    "vocab_size = 10000\n",
    "embedding_dim = 16\n",
    "max_length = 32\n",
    "trunc_type = 'post'\n",
    "padding_type = 'post'\n",
    "oov_tok = '<OOV>'\n",
    "training_size = 20000"
   ]
  },
  {
   "cell_type": "code",
   "execution_count": 3,
   "metadata": {},
   "outputs": [
    {
     "name": "stdout",
     "output_type": "stream",
     "text": [
      "--2020-09-22 19:52:07--  https://storage.googleapis.com/laurencemoroney-blog.appspot.com/sarcasm.json\n",
      "Resolving storage.googleapis.com (storage.googleapis.com)... 172.217.15.112, 142.250.73.208, 172.217.9.208, ...\n",
      "Connecting to storage.googleapis.com (storage.googleapis.com)|172.217.15.112|:443... connected.\n",
      "HTTP request sent, awaiting response... 200 OK\n",
      "Length: 5643545 (5.4M) [application/json]\n",
      "Saving to: ‘./sarcasm.json’\n",
      "\n",
      "./sarcasm.json      100%[===================>]   5.38M  11.4MB/s    in 0.5s    \n",
      "\n",
      "2020-09-22 19:52:07 (11.4 MB/s) - ‘./sarcasm.json’ saved [5643545/5643545]\n",
      "\n"
     ]
    }
   ],
   "source": [
    "!wget --no-check-certificate \\\n",
    "    https://storage.googleapis.com/laurencemoroney-blog.appspot.com/sarcasm.json \\\n",
    "    -O ./sarcasm.json"
   ]
  },
  {
   "cell_type": "code",
   "execution_count": 4,
   "metadata": {},
   "outputs": [],
   "source": [
    "with open(\"./sarcasm.json\", 'r') as f:\n",
    "    datastore = json.load(f)\n",
    "    \n",
    "sentences = []\n",
    "labels = []\n",
    "urls = []\n",
    "for item in datastore:\n",
    "    sentences.append(item['headline'])\n",
    "    labels.append(item['is_sarcastic'])"
   ]
  },
  {
   "cell_type": "code",
   "execution_count": 8,
   "metadata": {},
   "outputs": [],
   "source": [
    "training_sentences = sentences[:training_size]\n",
    "training_labels = labels[:training_size]\n",
    "testing_sentences = sentences[training_size:]\n",
    "testing_labels = labels[training_size:]"
   ]
  },
  {
   "cell_type": "code",
   "execution_count": 20,
   "metadata": {},
   "outputs": [],
   "source": [
    "tokenizer = Tokenizer(num_words=vocab_size, oov_token=oov_tok)\n",
    "tokenizer.fit_on_texts(training_sentences)\n",
    "\n",
    "word_index = tokenizer.word_index\n",
    "\n",
    "training_sequences = tokenizer.texts_to_sequences(training_sentences)\n",
    "training_padded = pad_sequences(training_sequences, maxlen=max_length, \n",
    "                       padding=padding_type, truncating=trunc_type)\n",
    "\n",
    "testing_sequences = tokenizer.texts_to_sequences(testing_sentences)\n",
    "testing_padded = pad_sequences(testing_sequences, maxlen=max_length, \n",
    "                               padding=padding_type, truncating=trunc_type)"
   ]
  },
  {
   "cell_type": "code",
   "execution_count": 23,
   "metadata": {},
   "outputs": [],
   "source": [
    "# Need this block to get it to work with TensorFlow 2.x\n",
    "import numpy as np\n",
    "training_padded = np.array(training_padded)\n",
    "training_labels = np.array(training_labels)\n",
    "testing_padded = np.array(testing_padded)\n",
    "testing_labels = np.array(testing_labels)"
   ]
  },
  {
   "cell_type": "code",
   "execution_count": 24,
   "metadata": {},
   "outputs": [
    {
     "name": "stdout",
     "output_type": "stream",
     "text": [
      "Model: \"sequential_3\"\n",
      "_________________________________________________________________\n",
      "Layer (type)                 Output Shape              Param #   \n",
      "=================================================================\n",
      "embedding_3 (Embedding)      (None, 32, 16)            160000    \n",
      "_________________________________________________________________\n",
      "global_average_pooling1d_3 ( (None, 16)                0         \n",
      "_________________________________________________________________\n",
      "dense_6 (Dense)              (None, 24)                408       \n",
      "_________________________________________________________________\n",
      "dense_7 (Dense)              (None, 1)                 25        \n",
      "=================================================================\n",
      "Total params: 160,433\n",
      "Trainable params: 160,433\n",
      "Non-trainable params: 0\n",
      "_________________________________________________________________\n"
     ]
    }
   ],
   "source": [
    "model = tf.keras.Sequential([\n",
    "    tf.keras.layers.Embedding(vocab_size, embedding_dim, input_length=max_length),\n",
    "    tf.keras.layers.GlobalAveragePooling1D(),\n",
    "    tf.keras.layers.Dense(24, activation='relu'),\n",
    "    tf.keras.layers.Dense(1, activation='sigmoid')\n",
    "])\n",
    "model.compile(loss='binary_crossentropy', optimizer='adam', metrics=['accuracy'])\n",
    "model.summary()"
   ]
  },
  {
   "cell_type": "code",
   "execution_count": 25,
   "metadata": {},
   "outputs": [
    {
     "name": "stdout",
     "output_type": "stream",
     "text": [
      "Epoch 1/30\n",
      "625/625 - 1s - loss: 0.5503 - accuracy: 0.7248 - val_loss: 0.3934 - val_accuracy: 0.8359\n",
      "Epoch 2/30\n",
      "625/625 - 1s - loss: 0.3079 - accuracy: 0.8781 - val_loss: 0.3524 - val_accuracy: 0.8435\n",
      "Epoch 3/30\n",
      "625/625 - 1s - loss: 0.2321 - accuracy: 0.9099 - val_loss: 0.3460 - val_accuracy: 0.8553\n",
      "Epoch 4/30\n",
      "625/625 - 1s - loss: 0.1876 - accuracy: 0.9277 - val_loss: 0.3696 - val_accuracy: 0.8508\n",
      "Epoch 5/30\n",
      "625/625 - 1s - loss: 0.1543 - accuracy: 0.9439 - val_loss: 0.3912 - val_accuracy: 0.8530\n",
      "Epoch 6/30\n",
      "625/625 - 1s - loss: 0.1312 - accuracy: 0.9527 - val_loss: 0.4278 - val_accuracy: 0.8459\n",
      "Epoch 7/30\n",
      "625/625 - 1s - loss: 0.1114 - accuracy: 0.9625 - val_loss: 0.4708 - val_accuracy: 0.8413\n",
      "Epoch 8/30\n",
      "625/625 - 1s - loss: 0.0965 - accuracy: 0.9679 - val_loss: 0.5238 - val_accuracy: 0.8353\n",
      "Epoch 9/30\n",
      "625/625 - 1s - loss: 0.0833 - accuracy: 0.9718 - val_loss: 0.5621 - val_accuracy: 0.8366\n",
      "Epoch 10/30\n",
      "625/625 - 1s - loss: 0.0720 - accuracy: 0.9766 - val_loss: 0.6175 - val_accuracy: 0.8272\n",
      "Epoch 11/30\n",
      "625/625 - 1s - loss: 0.0627 - accuracy: 0.9805 - val_loss: 0.6861 - val_accuracy: 0.8253\n",
      "Epoch 12/30\n",
      "625/625 - 1s - loss: 0.0550 - accuracy: 0.9834 - val_loss: 0.7227 - val_accuracy: 0.8234\n",
      "Epoch 13/30\n",
      "625/625 - 1s - loss: 0.0472 - accuracy: 0.9861 - val_loss: 0.7870 - val_accuracy: 0.8219\n",
      "Epoch 14/30\n",
      "625/625 - 1s - loss: 0.0413 - accuracy: 0.9879 - val_loss: 0.8501 - val_accuracy: 0.8174\n",
      "Epoch 15/30\n",
      "625/625 - 1s - loss: 0.0373 - accuracy: 0.9892 - val_loss: 0.9139 - val_accuracy: 0.8141\n",
      "Epoch 16/30\n",
      "625/625 - 1s - loss: 0.0341 - accuracy: 0.9892 - val_loss: 0.9856 - val_accuracy: 0.8159\n",
      "Epoch 17/30\n",
      "625/625 - 1s - loss: 0.0281 - accuracy: 0.9923 - val_loss: 1.0627 - val_accuracy: 0.8104\n",
      "Epoch 18/30\n",
      "625/625 - 1s - loss: 0.0251 - accuracy: 0.9933 - val_loss: 1.0971 - val_accuracy: 0.8122\n",
      "Epoch 19/30\n",
      "625/625 - 1s - loss: 0.0243 - accuracy: 0.9926 - val_loss: 1.1499 - val_accuracy: 0.8125\n",
      "Epoch 20/30\n",
      "625/625 - 1s - loss: 0.0206 - accuracy: 0.9938 - val_loss: 1.2379 - val_accuracy: 0.8079\n",
      "Epoch 21/30\n",
      "625/625 - 1s - loss: 0.0175 - accuracy: 0.9955 - val_loss: 1.2987 - val_accuracy: 0.8077\n",
      "Epoch 22/30\n",
      "625/625 - 1s - loss: 0.0153 - accuracy: 0.9959 - val_loss: 1.3321 - val_accuracy: 0.8070\n",
      "Epoch 23/30\n",
      "625/625 - 1s - loss: 0.0136 - accuracy: 0.9963 - val_loss: 1.4226 - val_accuracy: 0.8038\n",
      "Epoch 24/30\n",
      "625/625 - 1s - loss: 0.0150 - accuracy: 0.9956 - val_loss: 1.4529 - val_accuracy: 0.8052\n",
      "Epoch 25/30\n",
      "625/625 - 1s - loss: 0.0121 - accuracy: 0.9965 - val_loss: 1.5241 - val_accuracy: 0.8041\n",
      "Epoch 26/30\n",
      "625/625 - 1s - loss: 0.0104 - accuracy: 0.9971 - val_loss: 1.5894 - val_accuracy: 0.8052\n",
      "Epoch 27/30\n",
      "625/625 - 1s - loss: 0.0095 - accuracy: 0.9976 - val_loss: 1.6270 - val_accuracy: 0.8024\n",
      "Epoch 28/30\n",
      "625/625 - 1s - loss: 0.0097 - accuracy: 0.9975 - val_loss: 1.7018 - val_accuracy: 0.8049\n",
      "Epoch 29/30\n",
      "625/625 - 1s - loss: 0.0092 - accuracy: 0.9976 - val_loss: 1.7466 - val_accuracy: 0.7994\n",
      "Epoch 30/30\n",
      "625/625 - 1s - loss: 0.0083 - accuracy: 0.9977 - val_loss: 1.7968 - val_accuracy: 0.8009\n"
     ]
    }
   ],
   "source": [
    "num_epochs = 30\n",
    "\n",
    "history = model.fit(training_padded, training_labels, epochs=num_epochs,\n",
    "                   validation_data=(testing_padded, testing_labels), verbose=2)"
   ]
  },
  {
   "cell_type": "code",
   "execution_count": 28,
   "metadata": {},
   "outputs": [
    {
     "data": {
      "image/png": "[encoded data removed]",
      "text/plain": [
       "<Figure size 432x288 with 1 Axes>"
      ]
     },
     "metadata": {
      "needs_background": "light"
     },
     "output_type": "display_data"
    },
    {
     "data": {
      "image/png": "[encoded data removed]",
      "text/plain": [
       "<Figure size 432x288 with 1 Axes>"
      ]
     },
     "metadata": {
      "needs_background": "light"
     },
     "output_type": "display_data"
    }
   ],
   "source": [
    "import matplotlib.pyplot as plt\n",
    "\n",
    "def plot_graphs(history, string):\n",
    "    plt.plot(history.history[string])\n",
    "    plt.plot(history.history['val_'+string])\n",
    "    plt.xlabel('Epochs')\n",
    "    plt.ylabel(string)\n",
    "    plt.legend([string, 'val_'+string])\n",
    "    plt.show()\n",
    "    \n",
    "plot_graphs(history, \"accuracy\")\n",
    "plot_graphs(history, \"loss\")"
   ]
  },
  {
   "cell_type": "code",
   "execution_count": 86,
   "metadata": {},
   "outputs": [],
   "source": [
    "# Hyperparameter tunning\n",
    "\n",
    "vocab_size = 500 # (was 10000)\n",
    "embedding_dim = 16 # (was 16)\n",
    "max_length = 16  # (was 32)\n",
    "trunc_type = 'post'\n",
    "padding_type = 'post'\n",
    "oov_tok = '<OOV>'\n",
    "training_size = 20000"
   ]
  },
  {
   "cell_type": "code",
   "execution_count": 87,
   "metadata": {},
   "outputs": [],
   "source": [
    "training_sentences = sentences[:training_size]\n",
    "training_labels = labels[:training_size]\n",
    "testing_sentences = sentences[training_size:]\n",
    "testing_labels = labels[training_size:]"
   ]
  },
  {
   "cell_type": "code",
   "execution_count": 88,
   "metadata": {},
   "outputs": [],
   "source": [
    "tokenizer = Tokenizer(num_words=vocab_size, oov_token=oov_tok)\n",
    "tokenizer.fit_on_texts(training_sentences)\n",
    "\n",
    "word_index = tokenizer.word_index\n",
    "\n",
    "training_sequences = tokenizer.texts_to_sequences(training_sentences)\n",
    "training_padded = pad_sequences(training_sequences, maxlen=max_length, \n",
    "                       padding=padding_type, truncating=trunc_type)\n",
    "\n",
    "testing_sequences = tokenizer.texts_to_sequences(testing_sentences)\n",
    "testing_padded = pad_sequences(testing_sequences, maxlen=max_length, \n",
    "                               padding=padding_type, truncating=trunc_type)"
   ]
  },
  {
   "cell_type": "code",
   "execution_count": 89,
   "metadata": {},
   "outputs": [],
   "source": [
    "# Need this block to get it to work with TensorFlow 2.x\n",
    "import numpy as np\n",
    "training_padded = np.array(training_padded)\n",
    "training_labels = np.array(training_labels)\n",
    "testing_padded = np.array(testing_padded)\n",
    "testing_labels = np.array(testing_labels)"
   ]
  },
  {
   "cell_type": "code",
   "execution_count": 90,
   "metadata": {},
   "outputs": [
    {
     "name": "stdout",
     "output_type": "stream",
     "text": [
      "Model: \"sequential_11\"\n",
      "_________________________________________________________________\n",
      "Layer (type)                 Output Shape              Param #   \n",
      "=================================================================\n",
      "embedding_11 (Embedding)     (None, 16, 16)            8000      \n",
      "_________________________________________________________________\n",
      "global_average_pooling1d_11  (None, 16)                0         \n",
      "_________________________________________________________________\n",
      "dense_22 (Dense)             (None, 24)                408       \n",
      "_________________________________________________________________\n",
      "dense_23 (Dense)             (None, 1)                 25        \n",
      "=================================================================\n",
      "Total params: 8,433\n",
      "Trainable params: 8,433\n",
      "Non-trainable params: 0\n",
      "_________________________________________________________________\n"
     ]
    }
   ],
   "source": [
    "model = tf.keras.Sequential([\n",
    "    tf.keras.layers.Embedding(vocab_size, embedding_dim, input_length=max_length),\n",
    "    tf.keras.layers.GlobalAveragePooling1D(),\n",
    "    tf.keras.layers.Dense(24, activation='relu'),\n",
    "    tf.keras.layers.Dense(1, activation='sigmoid')\n",
    "])\n",
    "model.compile(loss='binary_crossentropy', optimizer='adam', metrics=['accuracy'])\n",
    "model.summary()"
   ]
  },
  {
   "cell_type": "code",
   "execution_count": 91,
   "metadata": {
    "scrolled": false
   },
   "outputs": [
    {
     "name": "stdout",
     "output_type": "stream",
     "text": [
      "Epoch 1/30\n",
      "625/625 - 1s - loss: 0.5431 - accuracy: 0.7125 - val_loss: 0.4386 - val_accuracy: 0.7900\n",
      "Epoch 2/30\n",
      "625/625 - 1s - loss: 0.4193 - accuracy: 0.8009 - val_loss: 0.4311 - val_accuracy: 0.7946\n",
      "Epoch 3/30\n",
      "625/625 - 1s - loss: 0.4105 - accuracy: 0.8052 - val_loss: 0.4304 - val_accuracy: 0.7930\n",
      "Epoch 4/30\n",
      "625/625 - 1s - loss: 0.4068 - accuracy: 0.8066 - val_loss: 0.4311 - val_accuracy: 0.7891\n",
      "Epoch 5/30\n",
      "625/625 - 1s - loss: 0.4063 - accuracy: 0.8067 - val_loss: 0.4313 - val_accuracy: 0.7918\n",
      "Epoch 6/30\n",
      "625/625 - 1s - loss: 0.4051 - accuracy: 0.8097 - val_loss: 0.4309 - val_accuracy: 0.7925\n",
      "Epoch 7/30\n",
      "625/625 - 1s - loss: 0.4043 - accuracy: 0.8080 - val_loss: 0.4344 - val_accuracy: 0.7864\n",
      "Epoch 8/30\n",
      "625/625 - 1s - loss: 0.4040 - accuracy: 0.8084 - val_loss: 0.4307 - val_accuracy: 0.7919\n",
      "Epoch 9/30\n",
      "625/625 - 1s - loss: 0.4020 - accuracy: 0.8112 - val_loss: 0.4328 - val_accuracy: 0.7879\n",
      "Epoch 10/30\n",
      "625/625 - 1s - loss: 0.3995 - accuracy: 0.8102 - val_loss: 0.4294 - val_accuracy: 0.7937\n",
      "Epoch 11/30\n",
      "625/625 - 1s - loss: 0.3964 - accuracy: 0.8124 - val_loss: 0.4301 - val_accuracy: 0.7949\n",
      "Epoch 12/30\n",
      "625/625 - 1s - loss: 0.3921 - accuracy: 0.8149 - val_loss: 0.4233 - val_accuracy: 0.7998\n",
      "Epoch 13/30\n",
      "625/625 - 1s - loss: 0.3890 - accuracy: 0.8184 - val_loss: 0.4196 - val_accuracy: 0.8025\n",
      "Epoch 14/30\n",
      "625/625 - 1s - loss: 0.3864 - accuracy: 0.8188 - val_loss: 0.4193 - val_accuracy: 0.8031\n",
      "Epoch 15/30\n",
      "625/625 - 1s - loss: 0.3847 - accuracy: 0.8195 - val_loss: 0.4210 - val_accuracy: 0.8031\n",
      "Epoch 16/30\n",
      "625/625 - 1s - loss: 0.3831 - accuracy: 0.8224 - val_loss: 0.4184 - val_accuracy: 0.8027\n",
      "Epoch 17/30\n",
      "625/625 - 1s - loss: 0.3817 - accuracy: 0.8196 - val_loss: 0.4176 - val_accuracy: 0.8016\n",
      "Epoch 18/30\n",
      "625/625 - 1s - loss: 0.3799 - accuracy: 0.8195 - val_loss: 0.4174 - val_accuracy: 0.8044\n",
      "Epoch 19/30\n",
      "625/625 - 1s - loss: 0.3788 - accuracy: 0.8224 - val_loss: 0.4189 - val_accuracy: 0.8044\n",
      "Epoch 20/30\n",
      "625/625 - 1s - loss: 0.3775 - accuracy: 0.8225 - val_loss: 0.4179 - val_accuracy: 0.8028\n",
      "Epoch 21/30\n",
      "625/625 - 1s - loss: 0.3768 - accuracy: 0.8241 - val_loss: 0.4197 - val_accuracy: 0.8040\n",
      "Epoch 22/30\n",
      "625/625 - 1s - loss: 0.3759 - accuracy: 0.8243 - val_loss: 0.4197 - val_accuracy: 0.8006\n",
      "Epoch 23/30\n",
      "625/625 - 1s - loss: 0.3748 - accuracy: 0.8239 - val_loss: 0.4193 - val_accuracy: 0.8027\n",
      "Epoch 24/30\n",
      "625/625 - 1s - loss: 0.3743 - accuracy: 0.8241 - val_loss: 0.4237 - val_accuracy: 0.7989\n",
      "Epoch 25/30\n",
      "625/625 - 1s - loss: 0.3729 - accuracy: 0.8250 - val_loss: 0.4271 - val_accuracy: 0.7994\n",
      "Epoch 26/30\n",
      "625/625 - 1s - loss: 0.3730 - accuracy: 0.8235 - val_loss: 0.4210 - val_accuracy: 0.8038\n",
      "Epoch 27/30\n",
      "625/625 - 1s - loss: 0.3719 - accuracy: 0.8242 - val_loss: 0.4223 - val_accuracy: 0.8012\n",
      "Epoch 28/30\n",
      "625/625 - 1s - loss: 0.3720 - accuracy: 0.8256 - val_loss: 0.4243 - val_accuracy: 0.8000\n",
      "Epoch 29/30\n",
      "625/625 - 1s - loss: 0.3712 - accuracy: 0.8280 - val_loss: 0.4227 - val_accuracy: 0.8041\n",
      "Epoch 30/30\n",
      "625/625 - 1s - loss: 0.3710 - accuracy: 0.8253 - val_loss: 0.4252 - val_accuracy: 0.8031\n"
     ]
    }
   ],
   "source": [
    "num_epochs = 30\n",
    "\n",
    "history = model.fit(training_padded, training_labels, epochs=num_epochs,\n",
    "                   validation_data=(testing_padded, testing_labels), verbose=2)"
   ]
  },
  {
   "cell_type": "code",
   "execution_count": 92,
   "metadata": {},
   "outputs": [
    {
     "data": {
      "image/png": "[encoded data removed]",
      "text/plain": [
       "<Figure size 432x288 with 1 Axes>"
      ]
     },
     "metadata": {
      "needs_background": "light"
     },
     "output_type": "display_data"
    },
    {
     "data": {
      "image/png": "[encoded data removed]",
      "text/plain": [
       "<Figure size 432x288 with 1 Axes>"
      ]
     },
     "metadata": {
      "needs_background": "light"
     },
     "output_type": "display_data"
    }
   ],
   "source": [
    "plot_graphs(history, \"accuracy\")\n",
    "plot_graphs(history, \"loss\")"
   ]
  },
  {
   "cell_type": "code",
   "execution_count": null,
   "metadata": {},
   "outputs": [],
   "source": []
  }
 ],
 "metadata": {
  "kernelspec": {
   "display_name": "Python 3",
   "language": "python",
   "name": "python3"
  },
  "language_info": {
   "codemirror_mode": {
    "name": "ipython",
    "version": 3
   },
   "file_extension": ".py",
   "mimetype": "text/x-python",
   "name": "python",
   "nbconvert_exporter": "python",
   "pygments_lexer": "ipython3",
   "version": "3.6.10"
  }
 },
 "nbformat": 4,
 "nbformat_minor": 4
}
